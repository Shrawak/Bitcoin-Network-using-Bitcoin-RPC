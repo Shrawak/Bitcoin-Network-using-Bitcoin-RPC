{
 "cells": [
  {
   "cell_type": "markdown",
   "metadata": {},
   "source": [
    "# Chapter 3 Assignment 2 : Implementing a Bitcoin Network using Bitcoin RPC"
   ]
  },
  {
   "cell_type": "markdown",
   "metadata": {},
   "source": [
    "The bitcoin core software is installed in the linux environment using Docker."
   ]
  },
  {
   "cell_type": "markdown",
   "metadata": {},
   "source": [
    "Then, start the Bitcoin daemon by running the command."
   ]
  },
  {
   "cell_type": "code",
   "execution_count": 1,
   "metadata": {
    "tags": []
   },
   "outputs": [
    {
     "name": "stdout",
     "output_type": "stream",
     "text": [
      "Bitcoin Core starting\r\n"
     ]
    }
   ],
   "source": [
    "!bitcoind -regtest -daemon"
   ]
  },
  {
   "cell_type": "markdown",
   "metadata": {},
   "source": [
    "## bitcoin-cli commands\n",
    "\n",
    "### 1. Create the version of bitcoin core"
   ]
  },
  {
   "cell_type": "code",
   "execution_count": 2,
   "metadata": {
    "scrolled": true
   },
   "outputs": [
    {
     "name": "stdout",
     "output_type": "stream",
     "text": [
      "Bitcoin Core RPC client version v23.0.0\r\n",
      "Copyright (C) 2009-2022 The Bitcoin Core developers\r\n",
      "\r\n",
      "Please contribute if you find Bitcoin Core useful. Visit\r\n",
      "<https://bitcoincore.org/> for further information about the software.\r\n",
      "The source code is available from <https://github.com/bitcoin/bitcoin>.\r\n",
      "\r\n",
      "This is experimental software.\r\n",
      "Distributed under the MIT software license, see the accompanying file COPYING\r\n",
      "or <https://opensource.org/licenses/MIT>\r\n"
     ]
    }
   ],
   "source": [
    "!bitcoin-cli --version"
   ]
  },
  {
   "cell_type": "markdown",
   "metadata": {},
   "source": [
    "### 2. Create a new wallet"
   ]
  },
  {
   "cell_type": "code",
   "execution_count": 3,
   "metadata": {},
   "outputs": [],
   "source": [
    "WALLET = \"shrawak\""
   ]
  },
  {
   "cell_type": "code",
   "execution_count": 4,
   "metadata": {},
   "outputs": [
    {
     "name": "stdout",
     "output_type": "stream",
     "text": [
      "{\r\n",
      "  \"name\": \"shrawak\",\r\n",
      "  \"warning\": \"\"\r\n",
      "}\r\n"
     ]
    }
   ],
   "source": [
    "!bitcoin-cli -regtest createwallet $WALLET false"
   ]
  },
  {
   "cell_type": "markdown",
   "metadata": {},
   "source": [
    "### 3. Get the balance of the wallet"
   ]
  },
  {
   "cell_type": "code",
   "execution_count": 5,
   "metadata": {},
   "outputs": [
    {
     "name": "stdout",
     "output_type": "stream",
     "text": [
      "0.00000000\r\n"
     ]
    }
   ],
   "source": [
    "!bitcoin-cli -regtest -rpcwallet=$WALLET getbalance"
   ]
  },
  {
   "cell_type": "markdown",
   "metadata": {},
   "source": [
    "### 4. Start mining"
   ]
  },
  {
   "cell_type": "code",
   "execution_count": 12,
   "metadata": {},
   "outputs": [
    {
     "name": "stdout",
     "output_type": "stream",
     "text": [
      "{\r\n",
      "  \"address\": \"bcrt1qhv2dxrf7xf32p22qgpvs25ws97zggn5250p72f\",\r\n",
      "  \"blocks\": [\r\n",
      "    \"3534ec46a088a20a4c3a763cc943bfaed8271f13642a94fd7fc56b9dcc868c87\",\r\n",
      "    \"41831e72fbaebdf20b207e4e2c553334eddb25e55d18afcb19d9e8bb88417e3d\",\r\n",
      "    \"691134d756349e9bd0e62d1e827c7ec5d75b2cefd5d6f0c4f41ea9bee1160b6a\",\r\n",
      "    \"095be004cad18ae1adde3c6939175f2c3e48d5ac4e2573b9740df825608bae50\",\r\n",
      "    \"196cc5785d90ac24b72684b595164f2cab9c98f61e1a637a41bdfaf17f6a675e\",\r\n",
      "    \"0af7237dcdceec32a526126f9bd50245438dc039772462dc4aafda1261f7f1b5\",\r\n",
      "    \"41de79b9c3ef1c10de78effd77d799340bd3ab6d1d1fa9d0dc572cb78048f829\",\r\n",
      "    \"2ec55e0ee0c00afdc29aea78546da33cd143fe8da9fb61995d4e055af189ebcd\",\r\n",
      "    \"4edc2581f274b1eefcbc9aae9c8579019fadda7c76405b7ba238735cbf1ddf14\",\r\n",
      "    \"390edca300c7e57e4e380698fab4f330b0196cd60ec686012e984c4ee484db0d\",\r\n",
      "    \"2b962fae7b76ccc4d59eacd0f8ccbfa3da917f2192d89b5692acf4b81e030780\",\r\n",
      "    \"1a93a422a6deb0a4084be935f1530a531a4a5a8079447459b9ace2e01344b4b1\",\r\n",
      "    \"7d5c2435f655521f0f9245f3ed9a7b97e1a5798f8f3c7fa15712126fad257897\",\r\n",
      "    \"64ae6a48cf4c7869b6d3d8827d8106799995bb895a26aa9673d57d61869c12eb\",\r\n",
      "    \"2beeeed8f7966660ef8f3356319159e04a0852ba9b607d6c8b17e0c8b4f0b4fa\",\r\n",
      "    \"1f7b5b5192abf8656e62f700a863d18b4885c3d4a1f6ac34df3e14ac900a3f7f\",\r\n",
      "    \"5a41e7ee6793524465135527a3fd6c74f878857f95206800ed2c9efdb4213f5b\",\r\n",
      "    \"1b721442cbeb90ebae1b24b61a2e923565b4de2348edd48806b7ff368d800b41\",\r\n",
      "    \"63d23f2554518360b527314d89cd8789d37dc6d39e01a3ef39d0badc13e5d64b\",\r\n",
      "    \"0a7cd187144660a7fb243a110288a11734615a679ed0214e92469a28fd643f32\",\r\n",
      "    \"35de089293752f2d340ac37cbf12da903df68ecbe582ec1b54213a0eec3a4426\",\r\n",
      "    \"5ca47b0c37659d8f2d7e6209c19f51a20898bf4f1e9ee14ddca6ddce132d4d77\",\r\n",
      "    \"466b37fb0a19902d1e51e9b58a087dbfba243708f299929cd1a48358f7db9234\",\r\n",
      "    \"53b78cfa10a9324abdccfe992fe3f568289487ed7c8ae58052d4d8b8d57f93ad\",\r\n",
      "    \"4b3143d49d0a80a659dab437a20bfc8dfbf1a8229304964c5c334d1b900f84ec\",\r\n",
      "    \"0cad0637b3c0409868d8ad5cdc7eeddada01fec7dce6311bbe174602bdc3ec96\",\r\n",
      "    \"51330fbbed71df0cc0eb8abd81793ae9266a844e0e1c694c2d3f673c097e1936\",\r\n",
      "    \"19ebac83a8a4a3e176ce69dfd99d481e9f4e5007d3e22cbed8441f63ab9080be\",\r\n",
      "    \"09a4873bc8134cf38d3fed8444b4eb8bee402fb8fd251ad5c689ff9539781e99\",\r\n",
      "    \"4c720f8eb00e35a10dee4d050efe1ccb4dbbf8fcd4e1e10185649ceb09fcf060\",\r\n",
      "    \"47b54c9d4e6e15524b07ac2fd46c8c9c02710f8ceaf7ebd010a2030e1a00ca13\",\r\n",
      "    \"503b1c69c7398d4ca54bda50ecc59e69686935f52ca83e37432db986b8ba5ba3\",\r\n",
      "    \"266e80b1b01039fc916d25049e5ef66061511d6cd9a9228250f354c09c9a95b4\",\r\n",
      "    \"4600cd7b83b83a4c38fcd42423d445a9e03e326092718eedcc2bfe25a6358fba\",\r\n",
      "    \"769b384a6dec11cfc65208e427b2509547f3d2d1ff47d8a7757c2bdde8b6d938\",\r\n",
      "    \"5239690778ea42b5f94e0b870e115043ab2f1727c73a89a1b34426f08d8def9c\",\r\n",
      "    \"1a4fc4e752e717a2597be083bcff36e7e1d348a0674f04514be03ab0c239b27a\",\r\n",
      "    \"64cebb13ae5e2c959f8f28c76703689d75c87fe8ebda1b9640a6b1fd89d8670a\",\r\n",
      "    \"470c69c5b06c8a6798091bbe4a9ac1222e92ba570aebad380efa06821ed764a2\",\r\n",
      "    \"2e9c1b0796eba2be51f0387b7e8b52665cedbc20aa4aea0d9bb4631b4e2db1b8\",\r\n",
      "    \"42ac3cbb1a7389d7e8f5dee57317b6a856d26d4ffe7261ca0c264af36a54e5a2\",\r\n",
      "    \"5695d97deda1655e0ae75686945a5478fd59f4680f1aafa250ba75eb055dfaf3\",\r\n",
      "    \"1145f8b19d203b2dca692451cda4af7fce76f97abc84ebf9ea2ea63facafedf5\",\r\n",
      "    \"1d2cbc264679cf2642a764e5e964f673ad6c919fc8e53ed6c9b8af8995471dfb\",\r\n",
      "    \"3326a4635392c643373ddbb1420bc9477745378d6b876f2a0be98cf84c2cd723\",\r\n",
      "    \"1c2259d691ee7dd9a01af20aab7e896279acaf520d51c8ffeff245227828630a\",\r\n",
      "    \"1993ace616731a94a5600b95f764621c7a6ee0b09f8aa488214cb3fc6331a495\",\r\n",
      "    \"07f6bfafe69511a7fa5a5e2e1408ea5ce95be5fe45ebe94a9acd0dac5019b851\",\r\n",
      "    \"4b7b88a0751cca5644cbb712e03ad4718c41fd85f20910bfff7b05ff79172a5d\",\r\n",
      "    \"74ab3235188dd03d7e8ee7d909fc2dccb711e28ae082890628148c81b84d0c32\",\r\n",
      "    \"1a9d3aada91c9bbf1bfc4d4663f8aa5ed978467dd902e79ba0dc0068cfa79c0a\",\r\n",
      "    \"50dc7b7fb0c3ebffe19ce96cbadd7878957e7bdf0431fc76db087f0d5fcda24e\",\r\n",
      "    \"13241b84d73bf346ce089c8b5413d06e2948472a507c2f045888eabfb7b861ee\",\r\n",
      "    \"4f5914a24ddada179a91eb497fc928de4b669bb9530384f2a40d85d5531bd368\",\r\n",
      "    \"3e77f886a908923d642ae97254f6aa28f41c341961e42026d5d2030d2503b341\",\r\n",
      "    \"1ecc18f657c45cf94b2469f61e9206cab5f23a12132e5f7deb61a1c8f96ddf30\",\r\n",
      "    \"58221451609b2c6441e1a0fa9d868c0015f25c1733daa06bf2c94df3c0381314\",\r\n",
      "    \"5c273fc7e32922883d1fefd5d66cb39753fcdbdc7d113894c295dff9a48ead20\",\r\n",
      "    \"5ce1f012ed9042c25b98241c9cd5ef3e83ed1bdd3e55e912de5ac0584bd8cfa9\",\r\n",
      "    \"5aece7ee08a8522275a73fcce654c9150e46d3c567b7cc585228296fa72e8c96\",\r\n",
      "    \"4037e26319275e385376a67f87a7396e77d63398d8eb5947cf4d4c39f05400c4\",\r\n",
      "    \"03aa0b85336af85405f4129ea41a1225f2e31c8854b6d5aa1da370822b4845d6\",\r\n",
      "    \"304914f558bedbc0996110e22b4edeafc4f8d6f8d08a9b8e6a130ef01ae5ff8d\",\r\n",
      "    \"665e01d066396aee0c7a29dc69bb7ebb479169912da663deba270187b99fc43a\",\r\n",
      "    \"466494a6912abac13e7572a08252abd18b05b840b9e2355a972e94e77cc128d8\",\r\n",
      "    \"119f9fe379b0eaaca160464a07fd594a8c2d5b8d38d02f352b93b73638622544\",\r\n",
      "    \"598ae54141f4e43d45f106e9b9c340a84a5e5394ba3ff48feb1d68e136c8e6d8\",\r\n",
      "    \"598d7bcc105e609c5d7218e891b2b9ced22cddd5aea40ff5a86745ad5ccac428\",\r\n",
      "    \"2208bf022bc28dc8950295cd4954d32b8516d50444cbbfe95f070b27bcbb6f8e\",\r\n",
      "    \"593567b50f256203d34ad8dea9035c99fb067f345b47cd6a3d185af5a716b32c\",\r\n",
      "    \"131f1c0471a324365d20f77bdf425e5700f0453034d939f7f438e6f280b3ce52\",\r\n",
      "    \"7be10b6928f1555f180ff6e57e805a0c48db4f2a6252285346ce0d2181f6edb5\",\r\n",
      "    \"5bb431780711f8c1d13168c1f0246d2d719542d70fc6dacfcd4a209536a6f3af\",\r\n",
      "    \"768d58c2551ae68d23a6b5bfe3c8c06650490061194ee192db5eb88f35407e44\",\r\n",
      "    \"40df21088fc88082fedd6933622b5b55fb14d31e558438a2df2e1c53782ccf23\",\r\n",
      "    \"414960199556b15605b11fd40dd67fcc0c3d8d5a9f140b3f32cecbd09441c165\",\r\n",
      "    \"20221d94e1bbdaa963d1d6d22c81598c2817d57b7aeebf0990c2c6e360661f4a\",\r\n",
      "    \"29db2c7b1b52d070d28469e747482141ceb4c02e94e5d4790b179f93400a4d03\",\r\n",
      "    \"5f181c6e19064481833e486781635e37699574fd1d6b62fd9e48443ae0d6cd65\",\r\n",
      "    \"17ea0472625465a0a6c942748716628ca52de7ce4e65d3d0d0a22925c72c1763\",\r\n",
      "    \"177abbfd8c490fbbf7a47c06f08f718f02f976982ab1dfcfbb9924cc9353af3c\",\r\n",
      "    \"0172786546ddca81a9c4a2e155e54c85ec6ce2cef9da0e90ecc84659b66f9450\",\r\n",
      "    \"0d6062f70fe330eea6af630300fc228c748a4d8ed470250df18a0e82f426da32\",\r\n",
      "    \"4379a06185f3a55d395c84c723b09c5843aca13644ed7bffb001721d0fcea61b\",\r\n",
      "    \"754b760927c67971bc1b87cc5578856ddc417f51eeee4e3e62fe7ae2866a0588\",\r\n",
      "    \"18c1198f749b8d90987ee7bdba2cfe0c96bf90e479633771ff474f10d8322146\",\r\n",
      "    \"060ede4fcd42ad8c39ae41c63240489c8820961b5bdb60ffdea51adeadb91cc8\",\r\n",
      "    \"7383798b1990977f52c2be39a993ed80f667a27e27a1afde0e5dfba800254566\",\r\n",
      "    \"1387dc2739eb78d1c5b26025126980ca822bdc86ae6c4ea1ffcab59e8af82b04\",\r\n",
      "    \"64410e3114111a2c53c93dd3ca60fb2762bf762b7ba4ddff7998cdf920e80929\",\r\n",
      "    \"1dd0973a08553f5bedba08a189576f0f69a4b25f399e7c4cab2622119667f70d\",\r\n",
      "    \"3cba137aa632173537273e0fe35ac152440f2ef69f3936541df12a7959489f04\",\r\n",
      "    \"165ca2efd7f80fa460a07a56d2cf2bb75f3b07f327946ad201ffec16979f2a5a\",\r\n",
      "    \"333e3dae1358261cb8e41a1e48dad9dfa540f92a779f5bf37cf0004c2fcdc392\",\r\n",
      "    \"5ca695bafc4d44133ebf12e14f70413d0ae6dc8257382e0e5b36ceaa0bd07552\",\r\n",
      "    \"6aff0a4f3f1bb5ea3c872a97248999647a60b0acaec538f27ef7712629898b07\",\r\n",
      "    \"27799d5bd5627483536e620f0f4dac89d0c6b9ceb98a193eca6ebf5bf0350549\",\r\n",
      "    \"604d78ba13f21798bdfce082cc056252a5049f33c985a12deb3233057602dfa0\",\r\n",
      "    \"605bd4db4ef8fcf02183f730a6bc92c867dfccfb30755d80d1af19aa29fc752e\",\r\n",
      "    \"1c083a3268880fc5d0e8d6e0973ddecd27de9e7057766bc07403e9ddb4089eb9\"\r\n",
      "  ]\r\n",
      "}\r\n"
     ]
    }
   ],
   "source": [
    "!bitcoin-cli -regtest -rpcwallet=$WALLET -generate 100"
   ]
  },
  {
   "cell_type": "code",
   "execution_count": 13,
   "metadata": {},
   "outputs": [
    {
     "name": "stdout",
     "output_type": "stream",
     "text": [
      "5000.00000000\r\n"
     ]
    }
   ],
   "source": [
    "!bitcoin-cli -regtest -rpcwallet=$WALLET getbalance"
   ]
  },
  {
   "cell_type": "markdown",
   "metadata": {},
   "source": [
    "### 5. Create a new transaction \"Send to some address\"."
   ]
  },
  {
   "cell_type": "code",
   "execution_count": 14,
   "metadata": {},
   "outputs": [
    {
     "name": "stdout",
     "output_type": "stream",
     "text": [
      "7d9f8e57f6dcbbbf93bb4b9d218d7f87fb2155e6697c59341539aa5defb6801d\r\n"
     ]
    }
   ],
   "source": [
    "# Send 100 BTC with a fee rate of 1.1 sat/vB, subtract fee from amount, \n",
    "# BIP125-replaceable, using positional arguments\n",
    "\n",
    "!bitcoin-cli -regtest -rpcwallet=$WALLET \\\n",
    "sendtoaddress \"2N3oefVeg6stiTb5Kh3ozCSkaqmx91FDbsm\" 500 \\\n",
    "\"test_transaction\" \"test_address\" true true null \"unset\" null 1.1"
   ]
  },
  {
   "cell_type": "markdown",
   "metadata": {},
   "source": [
    "### 6. Check Balance"
   ]
  },
  {
   "cell_type": "code",
   "execution_count": 15,
   "metadata": {},
   "outputs": [
    {
     "name": "stdout",
     "output_type": "stream",
     "text": [
      "4500.00000000\r\n"
     ]
    }
   ],
   "source": [
    "# Check balance\n",
    "!bitcoin-cli -regtest -rpcwallet=$WALLET getbalance"
   ]
  },
  {
   "cell_type": "markdown",
   "metadata": {},
   "source": [
    "___\n",
    "\n",
    "## Summary of findings"
   ]
  },
  {
   "cell_type": "markdown",
   "metadata": {},
   "source": [
    "From this assignment, I was able to implement a Bitcoin network using Bitcoin RPC. The assignment provides instructions on how to set up the Bitcoin Core software and interact with it using the Bitcoin RPC interface. It was required to create a new wallet, get the balance of the wallet, create a new transaction, and mine blocks using the bitcoin-cli command. Overall, the assignment aims to provide a practical understanding of how to use the Bitcoin RPC interface to interact with the Bitcoin network.And, I was able to learn the following:\n",
    "\n",
    "1. Using docker for installing bitcoin-core\n",
    "2. Implementing a Bitcoin Network using Bitcoin RPC\n",
    "3. Setup the test network for learning the various bitcoin-cli commands like `createwallet`, `getbalance`, `generate`and `sendtoaddress`."
   ]
  }
 ],
 "metadata": {
  "kernelspec": {
   "display_name": "Python 3 (ipykernel)",
   "language": "python",
   "name": "python3"
  },
  "language_info": {
   "codemirror_mode": {
    "name": "ipython",
    "version": 3
   },
   "file_extension": ".py",
   "mimetype": "text/x-python",
   "name": "python",
   "nbconvert_exporter": "python",
   "pygments_lexer": "ipython3",
   "version": "3.9.2"
  },
  "vscode": {
   "interpreter": {
    "hash": "24987f784c8dccf73f9cfa6e3252f4c6d678c4e80692db133e916b15e457da67"
   }
  }
 },
 "nbformat": 4,
 "nbformat_minor": 4
}
